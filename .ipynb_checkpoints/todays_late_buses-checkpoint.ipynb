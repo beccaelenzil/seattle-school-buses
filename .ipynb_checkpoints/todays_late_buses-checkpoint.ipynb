{
 "cells": [
  {
   "cell_type": "markdown",
   "metadata": {},
   "source": [
    "## Visualization / Mapping Functions"
   ]
  },
  {
   "cell_type": "code",
   "execution_count": 14,
   "metadata": {},
   "outputs": [],
   "source": [
    "# color coding function\n",
    "def color_code_fn(school_type):\n",
    "    if school_type == \"elementary school\":\n",
    "        color_code = [255,0,125,255]\n",
    "    elif school_type == \"middle school\":\n",
    "        color_code = [255,0,0,255]  \n",
    "    elif school_type == \"high school\":\n",
    "        color_code = [125,0,255,255] \n",
    "    else:\n",
    "        color_code = [125,0,255,255] \n",
    "    return color_code\n",
    "\n",
    "# circle diameter function\n",
    "def circle_diameter_fn(max_diameter, time_amount, late_time_array):\n",
    "    d = (max_diameter*(time_amount+30))/max(late_time_array)\n",
    "    return d\n",
    "\n",
    "def map_all_schools_fn(school):\n",
    "    circle_location = school['geocode']['location']\n",
    "    pop_up_description = {\"title\" : school['School'], \"content\" : school['geocode']['address']}\n",
    "    circle_format = {\"type\": \"esriSMS\",\"style\": \"esriSMSCircle\",\"color\": [0,0,0,125],\"size\": 4,\n",
    "                         \"angle\": 0,\"xoffset\": 0,\"yoffset\": 0,\n",
    "                         \"outline\": {\"color\": [0,0,0,255],\"width\": 0}}\n",
    "    return [circle_location, pop_up_description, circle_format]\n",
    "\n",
    "def map_late_schools_fn(school, d, color_code):\n",
    "    circle_location = school['geocode']['location']\n",
    "    pop_up_description = {\"title\" : school['School'], \"content\" : \"Late: \"+str(school['Late Time'])+\" minutes\"}\n",
    "    circle_format = {\"type\": \"esriSMS\",\"style\": \"esriSMSCircle\",\"color\": color_code,\n",
    "                     \"size\": d,\"angle\": 0,\"xoffset\": 0,\"yoffset\": 0,\n",
    "                     \"outline\": {\"color\": [0,0,0,255],\"width\": 1}}\n",
    "    return [circle_location, pop_up_description, circle_format]"
   ]
  },
  {
   "cell_type": "markdown",
   "metadata": {},
   "source": [
    "## Data analysis / relational functions"
   ]
  },
  {
   "cell_type": "code",
   "execution_count": 12,
   "metadata": {},
   "outputs": [],
   "source": [
    "def todays_late_buses_fn(late_bus_df):\n",
    "    late_bus_df = pd.read_pickle('scraping_bus_data/bus_data.pk1')\n",
    "    late_bus_df1  = late_bus_df.loc[late_bus_df['Day'] == str(7)]#str(now.day)]\n",
    "    late_bus_df2  = late_bus_df1.loc[late_bus_df1['To/From'] == 'to']\n",
    "    late_bus_df3  = late_bus_df2.loc[late_bus_df2['Data Taken Hour'] == 7]\n",
    "    select_late_bus_df = late_bus_df3\n",
    "\n",
    "    # get school info for schools with late buses    \n",
    "    late_schools_df = school_df.loc[school_df.get('School').isin(late_bus_df3.get('School'))]\n",
    "    \n",
    "    return [select_late_bus_df, late_schools_df]\n",
    "\n",
    "def late_minutes_per_school_fn(select_late_bus_df, late_schools_df):\n",
    "    # number of schools affected\n",
    "    total_rows = late_schools_df.shape[0]#int(late_schools.size/8)\n",
    "    print(total_rows)\n",
    "    \n",
    "    # initialize late_time array\n",
    "    late_time = (total_rows)*[0]\n",
    "    i = 0\n",
    "    \n",
    "    # add minute late column to school df\n",
    "    for index_schools, row_schools in late_schools_df.iterrows():\n",
    "        for index_buses, row_buses in select_late_bus_df.iterrows():\n",
    "            if row_schools['School'] == row_buses['School']:\n",
    "                late_time[i] += row_buses['Time']\n",
    "        i+=1\n",
    "    late_schools_df['Late Time'] = late_time\n",
    "    return late_schools_df"
   ]
  },
  {
   "cell_type": "markdown",
   "metadata": {},
   "source": [
    "# Map of today's late schools"
   ]
  },
  {
   "cell_type": "code",
   "execution_count": 16,
   "metadata": {
    "scrolled": false
   },
   "outputs": [
    {
     "name": "stdout",
     "output_type": "stream",
     "text": [
      "10\n"
     ]
    },
    {
     "name": "stderr",
     "output_type": "stream",
     "text": [
      "/anaconda3/lib/python3.6/site-packages/ipykernel_launcher.py:28: SettingWithCopyWarning: \n",
      "A value is trying to be set on a copy of a slice from a DataFrame.\n",
      "Try using .loc[row_indexer,col_indexer] = value instead\n",
      "\n",
      "See the caveats in the documentation: http://pandas.pydata.org/pandas-docs/stable/indexing.html#indexing-view-versus-copy\n"
     ]
    },
    {
     "data": {
      "application/vnd.jupyter.widget-view+json": {
       "model_id": "7a79a2e2c71144e09b05ab0a05c7948a",
       "version_major": 2,
       "version_minor": 0
      },
      "text/html": [
       "<p>Failed to display Jupyter Widget of type <code>MapView</code>.</p>\n",
       "<p>\n",
       "  If you're reading this message in the Jupyter Notebook or JupyterLab Notebook, it may mean\n",
       "  that the widgets JavaScript is still loading. If this message persists, it\n",
       "  likely means that the widgets JavaScript library is either not installed or\n",
       "  not enabled. See the <a href=\"https://ipywidgets.readthedocs.io/en/stable/user_install.html\">Jupyter\n",
       "  Widgets Documentation</a> for setup instructions.\n",
       "</p>\n",
       "<p>\n",
       "  If you're reading this message in another frontend (for example, a static\n",
       "  rendering on GitHub or <a href=\"https://nbviewer.jupyter.org/\">NBViewer</a>),\n",
       "  it may mean that your frontend doesn't currently support widgets.\n",
       "</p>\n"
      ],
      "text/plain": [
       "MapView(layout=Layout(height='400px', width='100%'))"
      ]
     },
     "metadata": {},
     "output_type": "display_data"
    },
    {
     "data": {
      "text/html": [
       "<div class=\"map-static-img-preview-4dfb99c9-d90d-407d-a0ca-737d749dbcd9\"><img src=\"\"></img></div>"
      ],
      "text/plain": [
       "<IPython.core.display.HTML object>"
      ]
     },
     "metadata": {},
     "output_type": "display_data"
    }
   ],
   "source": [
    "import datetime\n",
    "import pandas as pd\n",
    "import numpy as np\n",
    "from datascience import *\n",
    "import random\n",
    "from arcgis.gis import GIS\n",
    "\n",
    "now = datetime.datetime.now()\n",
    "\n",
    "# read in schools table\n",
    "school_df = pd.read_pickle('geocoding_schools/cleaned_school_list.pk1')\n",
    "\n",
    "#from arcgis.geocoding import geocoding\n",
    "my_gis = GIS()\n",
    "seattle = my_gis.map(\"Seattle, WA\")\n",
    "\n",
    "# map all schools\n",
    "for index, school in school_df.iterrows():\n",
    "    try: \n",
    "        [circle_location, pop_up_description, circle_format] = map_all_schools_fn(school)\n",
    "        seattle.draw(circle_location, pop_up_description, circle_format)\n",
    "    # some schools don't have an address in the table\n",
    "    except:\n",
    "        pass  \n",
    "    \n",
    "# get today's late bus data\n",
    "late_bus_df = pd.read_pickle('scraping_bus_data/bus_data.pk1')\n",
    "[select_late_bus_df, late_schools_df] = todays_late_buses_fn(late_bus_df)\n",
    "\n",
    "#calculate the total bus late time for each school\n",
    "late_schools_df = late_minutes_per_school_fn(select_late_bus_df, late_schools_df)\n",
    "\n",
    "# map late schools\n",
    "for index, school in late_schools_df.iterrows():\n",
    "    color_code = color_code_fn(school['Type'])\n",
    "    d = circle_diameter_fn(max_diameter = 8, time_amount = school['Late Time'], \n",
    "                           late_time_array = late_schools_df['Late Time'])\n",
    "    [circle_location, pop_up_description, circle_format] = map_late_schools_fn(school, d, color_code)\n",
    "    seattle.draw(circle_location, pop_up_description, circle_format)\n",
    "    \n",
    "seattle"
   ]
  },
  {
   "cell_type": "markdown",
   "metadata": {},
   "source": [
    "# All Days"
   ]
  }
 ],
 "metadata": {
  "kernelspec": {
   "display_name": "Python 3",
   "language": "python",
   "name": "python3"
  },
  "language_info": {
   "codemirror_mode": {
    "name": "ipython",
    "version": 3
   },
   "file_extension": ".py",
   "mimetype": "text/x-python",
   "name": "python",
   "nbconvert_exporter": "python",
   "pygments_lexer": "ipython3",
   "version": "3.6.6"
  }
 },
 "nbformat": 4,
 "nbformat_minor": 1
}
