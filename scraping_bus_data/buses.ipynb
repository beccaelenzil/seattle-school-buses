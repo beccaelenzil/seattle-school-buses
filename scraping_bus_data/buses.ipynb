{
 "cells": [
  {
   "cell_type": "code",
   "execution_count": 1,
   "metadata": {},
   "outputs": [],
   "source": [
    "from bs4 import BeautifulSoup\n",
    "import urllib.request as urllib"
   ]
  },
  {
   "cell_type": "code",
   "execution_count": 2,
   "metadata": {},
   "outputs": [],
   "source": [
    "late_busses = 'https://www.seattleschools.org/departments/transportation/latebus'\n",
    "page = urllib.urlopen(late_busses)\n",
    "soup = BeautifulSoup(page, \"html.parser\")"
   ]
  },
  {
   "cell_type": "code",
   "execution_count": 1,
   "metadata": {},
   "outputs": [
    {
     "ename": "NameError",
     "evalue": "name 'soup' is not defined",
     "output_type": "error",
     "traceback": [
      "\u001b[0;31m---------------------------------------------------------------------------\u001b[0m",
      "\u001b[0;31mNameError\u001b[0m                                 Traceback (most recent call last)",
      "\u001b[0;32m<ipython-input-1-bc202b1d62f4>\u001b[0m in \u001b[0;36m<module>\u001b[0;34m()\u001b[0m\n\u001b[0;32m----> 1\u001b[0;31m \u001b[0;34m[\u001b[0m\u001b[0ma\u001b[0m\u001b[0;34m,\u001b[0m \u001b[0mbus_list\u001b[0m\u001b[0;34m,\u001b[0m \u001b[0mb\u001b[0m\u001b[0;34m]\u001b[0m \u001b[0;34m=\u001b[0m \u001b[0msoup\u001b[0m\u001b[0;34m.\u001b[0m\u001b[0mfind_all\u001b[0m\u001b[0;34m(\u001b[0m\u001b[0;34m'p'\u001b[0m\u001b[0;34m)\u001b[0m\u001b[0;34m\u001b[0m\u001b[0m\n\u001b[0m\u001b[1;32m      2\u001b[0m \u001b[0;34m[\u001b[0m\u001b[0ma\u001b[0m\u001b[0;34m,\u001b[0m\u001b[0mdate\u001b[0m\u001b[0;34m]\u001b[0m \u001b[0;34m=\u001b[0m \u001b[0msoup\u001b[0m\u001b[0;34m.\u001b[0m\u001b[0mfind_all\u001b[0m\u001b[0;34m(\u001b[0m\u001b[0;34m'h3'\u001b[0m\u001b[0;34m)\u001b[0m\u001b[0;34m\u001b[0m\u001b[0m\n",
      "\u001b[0;31mNameError\u001b[0m: name 'soup' is not defined"
     ]
    }
   ],
   "source": [
    "[a, bus_list, b] = soup.find_all('p')\n",
    "[a,date] = soup.find_all('h3')"
   ]
  },
  {
   "cell_type": "code",
   "execution_count": null,
   "metadata": {},
   "outputs": [],
   "source": [
    "for "
   ]
  },
  {
   "cell_type": "code",
   "execution_count": 4,
   "metadata": {},
   "outputs": [
    {
     "name": "stdout",
     "output_type": "stream",
     "text": [
      "<h3>Today's Late Bus Alert for December 21st, 2018</h3>\n",
      "[\"Today's\", 'Late', 'Bus', 'Alert', 'for', 'December', '21st,', '2018']\n",
      "21\n"
     ]
    }
   ],
   "source": [
    "date = str(date)\n",
    "print(date)\n",
    "\n",
    "date = date.strip('</h3>')\n",
    "date = date.strip(',')\n",
    "date = date.split(\" \")\n",
    "print(date)\n",
    "months = ['January','February','March','April','May','June',\n",
    "          'July','August','September','October','November','December']\n",
    "\n",
    "i = 0\n",
    "while date[i] not in months:\n",
    "    i = i+1\n",
    "\n",
    "the_month = date[i]\n",
    "the_day = date[i+1]\n",
    "the_year = date[i+2]\n",
    "\n",
    "print(the_day[0:2])\n",
    "\n",
    "if the_day[0:2].isdigit() == True:\n",
    "    the_day = the_day[0:2]\n",
    "else:\n",
    "    the_day = the_day[0]"
   ]
  },
  {
   "cell_type": "code",
   "execution_count": 5,
   "metadata": {},
   "outputs": [
    {
     "data": {
      "text/plain": [
       "'Route 3 from Adams is running 20 minutes late<br/>\\nRoute 120 from Loyal Heights is running 20 minutes late<br/>\\nRoute 630 from Queen Anne is running 20 minutes late<br/>\\nRoute 148 from Northgate is running 10 minutes late<br/>\\nRoute 799 from Gatzert is running 2 hours late<br/>\\nRoute 462 from Washington is running 1 hour late<br/>\\nRoute 792 from Kimball is running 2 hours late<br/>\\nRoute 402 from Cleveland is running 1 hour late<br/>\\nRoute 624 from Fairmount Park is running 2 hours late<br/>\\nRoute 464 from Washington is running 1 hour late<br/>\\nRoute 795 from Leschi is running 2 hours late<br/>\\nRoute 456 from Meany is running 1 hour late<br/>\\nRoute 327 from Washington is running 1 hour late<br/>\\nRoute 130 from Maple is running 2 hours late<br/>\\nRoute 36 from Dearborn Park is running 2 hours late<br/>\\nRoute 213 from Viewlands is running 2 hours late<br/>\\nRoute 79 from John Hay is running 1 hour late<br/>\\nRoute 317 from Meany is running 1 hour late<br/>\\nRoute 576 from TOPS is running 20 minutes late'"
      ]
     },
     "execution_count": 5,
     "metadata": {},
     "output_type": "execute_result"
    }
   ],
   "source": [
    "bus_list = str(bus_list)\n",
    "bus_list = bus_list.strip('<p>')\n",
    "bus_list = bus_list.strip('</p>')\n",
    "bus_list = bus_list.strip('is running')\n",
    "bus_list"
   ]
  },
  {
   "cell_type": "code",
   "execution_count": 6,
   "metadata": {},
   "outputs": [
    {
     "name": "stdout",
     "output_type": "stream",
     "text": [
      "['Route 3 from Adams is running 20 minutes late', '\\nRoute 120 from Loyal Heights is running 20 minutes late', '\\nRoute 630 from Queen Anne is running 20 minutes late', '\\nRoute 148 from Northgate is running 10 minutes late', '\\nRoute 799 from Gatzert is running 2 hours late', '\\nRoute 462 from Washington is running 1 hour late', '\\nRoute 792 from Kimball is running 2 hours late', '\\nRoute 402 from Cleveland is running 1 hour late', '\\nRoute 624 from Fairmount Park is running 2 hours late', '\\nRoute 464 from Washington is running 1 hour late', '\\nRoute 795 from Leschi is running 2 hours late', '\\nRoute 456 from Meany is running 1 hour late', '\\nRoute 327 from Washington is running 1 hour late', '\\nRoute 130 from Maple is running 2 hours late', '\\nRoute 36 from Dearborn Park is running 2 hours late', '\\nRoute 213 from Viewlands is running 2 hours late', '\\nRoute 79 from John Hay is running 1 hour late', '\\nRoute 317 from Meany is running 1 hour late', '\\nRoute 576 from TOPS is running 20 minutes late']\n"
     ]
    }
   ],
   "source": [
    "import numpy as np\n",
    "bus_list_array = bus_list.split(\"<br/>\")\n",
    "print(bus_list_array)"
   ]
  },
  {
   "cell_type": "code",
   "execution_count": 7,
   "metadata": {},
   "outputs": [],
   "source": [
    "new_bus_array = []\n",
    "\n",
    "for string in bus_list_array:\n",
    "    string = string.split(' ')\n",
    "    new_bus_array.append(string)"
   ]
  },
  {
   "cell_type": "code",
   "execution_count": 20,
   "metadata": {},
   "outputs": [],
   "source": [
    "import pandas as pd\n",
    "from datascience import *\n",
    "\n",
    "bus_number_list = []\n",
    "school_list = []\n",
    "to_from_list = []\n",
    "time_list = []\n",
    "unit_list = []\n",
    "month_list = []\n",
    "day_list = []\n",
    "year_list = []\n",
    "\n",
    "\n",
    "for list_item in new_bus_array:\n",
    "    bus_number_list.append(int(list_item[1]))\n",
    "    to_from_list.append(list_item[2])\n",
    "    \n",
    "    #schools\n",
    "    if list_item[4] == \"is\":\n",
    "        is_index = 4\n",
    "        school_list.append(list_item[3])\n",
    "    elif list_item[5] == \"is\":\n",
    "        is_index = 5\n",
    "        school_list.append(list_item[3]+\" \"+list_item[4])\n",
    "    elif list_item[6] == \"is\":\n",
    "        is_index = 6\n",
    "        school_list.append(list_item[3]+\" \"+list_item[4]+\" \"+list_item[5])\n",
    "        \n",
    "    #time\n",
    "    if list_item[is_index+3] == 'minutes':\n",
    "        time_list.append(int(list_item[is_index+2]))\n",
    "    elif list_item[is_index+3] == 'hours' or list_item[is_index+3] == 'hour' :\n",
    "        time_list.append(60*int(list_item[is_index+2]))\n",
    "        \n",
    "    unit_list.append(\"minutes\")\n",
    "    month_list.append(the_month)\n",
    "    day_list.append(the_day)\n",
    "    year_list.append(the_year)"
   ]
  },
  {
   "cell_type": "code",
   "execution_count": 23,
   "metadata": {},
   "outputs": [
    {
     "name": "stdout",
     "output_type": "stream",
     "text": [
      "       Month Day  Year  Bus Number          School To/From   Time     Unit\n",
      "0   December  21  2018         3.0           Adams    from   20.0  minutes\n",
      "1   December  21  2018       120.0   Loyal Heights    from   20.0  minutes\n",
      "2   December  21  2018       630.0      Queen Anne    from   20.0  minutes\n",
      "3   December  21  2018       148.0       Northgate    from   10.0  minutes\n",
      "4   December  21  2018       799.0         Gatzert    from  120.0  minutes\n",
      "5   December  21  2018       462.0      Washington    from   60.0  minutes\n",
      "6   December  21  2018       792.0         Kimball    from  120.0  minutes\n",
      "7   December  21  2018       402.0       Cleveland    from   60.0  minutes\n",
      "8   December  21  2018       624.0  Fairmount Park    from  120.0  minutes\n",
      "9   December  21  2018       464.0      Washington    from   60.0  minutes\n",
      "10  December  21  2018       795.0          Leschi    from  120.0  minutes\n",
      "11  December  21  2018       456.0           Meany    from   60.0  minutes\n",
      "12  December  21  2018       327.0      Washington    from   60.0  minutes\n",
      "13  December  21  2018       130.0           Maple    from  120.0  minutes\n",
      "14  December  21  2018        36.0   Dearborn Park    from  120.0  minutes\n",
      "15  December  21  2018       213.0       Viewlands    from  120.0  minutes\n",
      "16  December  21  2018        79.0        John Hay    from   60.0  minutes\n",
      "17  December  21  2018       317.0           Meany    from   60.0  minutes\n",
      "18  December  21  2018       576.0            TOPS    from   20.0  minutes\n"
     ]
    }
   ],
   "source": [
    "BusDataSet = list(zip(month_list,day_list,year_list,bus_number_list,school_list, to_from_list, time_list, unit_list))\n",
    "\n",
    "df = pd.read_pickle('bus_data.pk1')\n",
    "\n",
    "df2 = pd.DataFrame(data = BusDataSet, columns=['Month', 'Day','Year',\n",
    "                                              'Bus Number','School',\n",
    "                                              'To/From','Time','Unit'])\n",
    "\n",
    "df3 = df.append(df2,ignore_index=True)\n",
    "\n",
    "#df3.to_pickle('bus_data.pk1')\n",
    "\n",
    "print(df3[0:19])"
   ]
  },
  {
   "cell_type": "code",
   "execution_count": 20,
   "metadata": {},
   "outputs": [
    {
     "name": "stdout",
     "output_type": "stream",
     "text": [
      "Solving environment: done\n",
      "\n",
      "\n",
      "==> WARNING: A newer version of conda exists. <==\n",
      "  current version: 4.4.10\n",
      "  latest version: 4.5.12\n",
      "\n",
      "Please update conda by running\n",
      "\n",
      "    $ conda update -n base conda\n",
      "\n",
      "\n",
      "\n",
      "# All requested packages already installed.\n",
      "\n"
     ]
    }
   ],
   "source": [
    "!conda install basemap"
   ]
  },
  {
   "cell_type": "code",
   "execution_count": 22,
   "metadata": {},
   "outputs": [
    {
     "ename": "KeyError",
     "evalue": "'PROJ_LIB'",
     "output_type": "error",
     "traceback": [
      "\u001b[0;31m---------------------------------------------------------------------------\u001b[0m",
      "\u001b[0;31mKeyError\u001b[0m                                  Traceback (most recent call last)",
      "\u001b[0;32m<ipython-input-22-db2649dcf0a1>\u001b[0m in \u001b[0;36m<module>\u001b[0;34m()\u001b[0m\n\u001b[1;32m      2\u001b[0m \u001b[0;32mimport\u001b[0m \u001b[0mnumpy\u001b[0m \u001b[0;32mas\u001b[0m \u001b[0mnp\u001b[0m\u001b[0;34m\u001b[0m\u001b[0m\n\u001b[1;32m      3\u001b[0m \u001b[0;32mimport\u001b[0m \u001b[0mmatplotlib\u001b[0m\u001b[0;34m.\u001b[0m\u001b[0mpyplot\u001b[0m \u001b[0;32mas\u001b[0m \u001b[0mplt\u001b[0m\u001b[0;34m\u001b[0m\u001b[0m\n\u001b[0;32m----> 4\u001b[0;31m \u001b[0;32mfrom\u001b[0m \u001b[0mmpl_toolkits\u001b[0m\u001b[0;34m.\u001b[0m\u001b[0mbasemap\u001b[0m \u001b[0;32mimport\u001b[0m \u001b[0mBasemap\u001b[0m\u001b[0;34m\u001b[0m\u001b[0m\n\u001b[0m",
      "\u001b[0;32m/anaconda3/lib/python3.6/site-packages/mpl_toolkits/basemap/__init__.py\u001b[0m in \u001b[0;36m<module>\u001b[0;34m()\u001b[0m\n\u001b[1;32m    153\u001b[0m \u001b[0;34m\u001b[0m\u001b[0m\n\u001b[1;32m    154\u001b[0m \u001b[0;31m# create dictionary that maps epsg codes to Basemap kwargs.\u001b[0m\u001b[0;34m\u001b[0m\u001b[0;34m\u001b[0m\u001b[0m\n\u001b[0;32m--> 155\u001b[0;31m \u001b[0mpyproj_datadir\u001b[0m \u001b[0;34m=\u001b[0m \u001b[0mos\u001b[0m\u001b[0;34m.\u001b[0m\u001b[0menviron\u001b[0m\u001b[0;34m[\u001b[0m\u001b[0;34m'PROJ_LIB'\u001b[0m\u001b[0;34m]\u001b[0m\u001b[0;34m\u001b[0m\u001b[0m\n\u001b[0m\u001b[1;32m    156\u001b[0m \u001b[0mepsgf\u001b[0m \u001b[0;34m=\u001b[0m \u001b[0mopen\u001b[0m\u001b[0;34m(\u001b[0m\u001b[0mos\u001b[0m\u001b[0;34m.\u001b[0m\u001b[0mpath\u001b[0m\u001b[0;34m.\u001b[0m\u001b[0mjoin\u001b[0m\u001b[0;34m(\u001b[0m\u001b[0mpyproj_datadir\u001b[0m\u001b[0;34m,\u001b[0m\u001b[0;34m'epsg'\u001b[0m\u001b[0;34m)\u001b[0m\u001b[0;34m)\u001b[0m\u001b[0;34m\u001b[0m\u001b[0m\n\u001b[1;32m    157\u001b[0m \u001b[0mepsg_dict\u001b[0m\u001b[0;34m=\u001b[0m\u001b[0;34m{\u001b[0m\u001b[0;34m}\u001b[0m\u001b[0;34m\u001b[0m\u001b[0m\n",
      "\u001b[0;32m/anaconda3/lib/python3.6/os.py\u001b[0m in \u001b[0;36m__getitem__\u001b[0;34m(self, key)\u001b[0m\n\u001b[1;32m    667\u001b[0m         \u001b[0;32mexcept\u001b[0m \u001b[0mKeyError\u001b[0m\u001b[0;34m:\u001b[0m\u001b[0;34m\u001b[0m\u001b[0m\n\u001b[1;32m    668\u001b[0m             \u001b[0;31m# raise KeyError with the original key value\u001b[0m\u001b[0;34m\u001b[0m\u001b[0;34m\u001b[0m\u001b[0m\n\u001b[0;32m--> 669\u001b[0;31m             \u001b[0;32mraise\u001b[0m \u001b[0mKeyError\u001b[0m\u001b[0;34m(\u001b[0m\u001b[0mkey\u001b[0m\u001b[0;34m)\u001b[0m \u001b[0;32mfrom\u001b[0m \u001b[0;32mNone\u001b[0m\u001b[0;34m\u001b[0m\u001b[0m\n\u001b[0m\u001b[1;32m    670\u001b[0m         \u001b[0;32mreturn\u001b[0m \u001b[0mself\u001b[0m\u001b[0;34m.\u001b[0m\u001b[0mdecodevalue\u001b[0m\u001b[0;34m(\u001b[0m\u001b[0mvalue\u001b[0m\u001b[0;34m)\u001b[0m\u001b[0;34m\u001b[0m\u001b[0m\n\u001b[1;32m    671\u001b[0m \u001b[0;34m\u001b[0m\u001b[0m\n",
      "\u001b[0;31mKeyError\u001b[0m: 'PROJ_LIB'"
     ]
    }
   ],
   "source": [
    "%matplotlib inline\n",
    "import numpy as np\n",
    "import matplotlib.pyplot as plt\n",
    "from mpl_toolkits.basemap import Basemap"
   ]
  },
  {
   "cell_type": "code",
   "execution_count": 25,
   "metadata": {},
   "outputs": [
    {
     "name": "stdout",
     "output_type": "stream",
     "text": [
      "\r\n"
     ]
    }
   ],
   "source": [
    "!echo $PROJ_LIB"
   ]
  },
  {
   "cell_type": "code",
   "execution_count": 22,
   "metadata": {},
   "outputs": [
    {
     "ename": "NameError",
     "evalue": "name 'plt' is not defined",
     "output_type": "error",
     "traceback": [
      "\u001b[0;31m---------------------------------------------------------------------------\u001b[0m",
      "\u001b[0;31mNameError\u001b[0m                                 Traceback (most recent call last)",
      "\u001b[0;32m<ipython-input-22-961a8551716d>\u001b[0m in \u001b[0;36m<module>\u001b[0;34m()\u001b[0m\n\u001b[0;32m----> 1\u001b[0;31m \u001b[0mplt\u001b[0m\u001b[0;34m.\u001b[0m\u001b[0mfigure\u001b[0m\u001b[0;34m(\u001b[0m\u001b[0mfigsize\u001b[0m\u001b[0;34m=\u001b[0m\u001b[0;34m(\u001b[0m\u001b[0;36m8\u001b[0m\u001b[0;34m,\u001b[0m \u001b[0;36m8\u001b[0m\u001b[0;34m)\u001b[0m\u001b[0;34m)\u001b[0m\u001b[0;34m\u001b[0m\u001b[0m\n\u001b[0m\u001b[1;32m      2\u001b[0m \u001b[0mm\u001b[0m \u001b[0;34m=\u001b[0m \u001b[0mBasemap\u001b[0m\u001b[0;34m(\u001b[0m\u001b[0mprojection\u001b[0m\u001b[0;34m=\u001b[0m\u001b[0;34m'ortho'\u001b[0m\u001b[0;34m,\u001b[0m \u001b[0mresolution\u001b[0m\u001b[0;34m=\u001b[0m\u001b[0;32mNone\u001b[0m\u001b[0;34m,\u001b[0m \u001b[0mlat_0\u001b[0m\u001b[0;34m=\u001b[0m\u001b[0;36m50\u001b[0m\u001b[0;34m,\u001b[0m \u001b[0mlon_0\u001b[0m\u001b[0;34m=\u001b[0m\u001b[0;34m-\u001b[0m\u001b[0;36m100\u001b[0m\u001b[0;34m)\u001b[0m\u001b[0;34m\u001b[0m\u001b[0m\n\u001b[1;32m      3\u001b[0m \u001b[0mm\u001b[0m\u001b[0;34m.\u001b[0m\u001b[0mbluemarble\u001b[0m\u001b[0;34m(\u001b[0m\u001b[0mscale\u001b[0m\u001b[0;34m=\u001b[0m\u001b[0;36m0.5\u001b[0m\u001b[0;34m)\u001b[0m\u001b[0;34m;\u001b[0m\u001b[0;34m\u001b[0m\u001b[0m\n",
      "\u001b[0;31mNameError\u001b[0m: name 'plt' is not defined"
     ]
    }
   ],
   "source": [
    "plt.figure(figsize=(8, 8))\n",
    "m = Basemap(projection='ortho', resolution=None, lat_0=50, lon_0=-100)\n",
    "m.bluemarble(scale=0.5);"
   ]
  },
  {
   "cell_type": "code",
   "execution_count": null,
   "metadata": {},
   "outputs": [],
   "source": []
  }
 ],
 "metadata": {
  "kernelspec": {
   "display_name": "Python 3",
   "language": "python",
   "name": "python3"
  },
  "language_info": {
   "codemirror_mode": {
    "name": "ipython",
    "version": 3
   },
   "file_extension": ".py",
   "mimetype": "text/x-python",
   "name": "python",
   "nbconvert_exporter": "python",
   "pygments_lexer": "ipython3",
   "version": "3.6.6"
  }
 },
 "nbformat": 4,
 "nbformat_minor": 1
}
