{
 "cells": [
  {
   "cell_type": "code",
   "execution_count": 94,
   "metadata": {},
   "outputs": [],
   "source": [
    "from bs4 import BeautifulSoup\n",
    "import urllib.request as urllib\n",
    "import re\n",
    "import numpy as np\n",
    "import pandas as pd\n",
    "from datascience import *"
   ]
  },
  {
   "cell_type": "code",
   "execution_count": 2,
   "metadata": {},
   "outputs": [],
   "source": [
    "late_busses = 'https://www.seattleschools.org/departments/transportation/latebus'\n",
    "page = urllib.urlopen(late_busses)\n",
    "soup = BeautifulSoup(page, \"html.parser\")"
   ]
  },
  {
   "cell_type": "code",
   "execution_count": 24,
   "metadata": {},
   "outputs": [
    {
     "name": "stdout",
     "output_type": "stream",
     "text": [
      "<p><a href=\"/cms/One.aspx?portalId=627&amp;pageId=54556720\" title=\"Late Bus Letter to Families page\">Letter to families with update on transportation services Sept. 24, 2018</a></p>\n"
     ]
    }
   ],
   "source": [
    "# find the list of late buses using regex\n",
    "running_late_bus_pattern = re.compile(\"Route (\\d+) ([A-Za-z]+) ([A-Za-z]+) is running (\\d+) ([A-Za-z]+) late\")\n",
    "\n",
    "paragraphs = []\n",
    "for paragraph in soup.find_all('p'):\n",
    "    paragraph = str(paragraph)\n",
    "    if running_late_bus_pattern.search(paragraph):\n",
    "        bus_list = paragraph\n"
   ]
  },
  {
   "cell_type": "code",
   "execution_count": null,
   "metadata": {},
   "outputs": [],
   "source": [
    "# find the date using regex\n",
    "date_text_pattern = re.compile(\"([A-Z][a-z]+) (\\d+)[a-z]+, (\\d\\d\\d\\d)\")\n",
    "\n",
    "for header in soup.find_all('h3'):\n",
    "    header = str(header)\n",
    "    if date_text_pattern.search(header):\n",
    "        date_text = header"
   ]
  },
  {
   "cell_type": "code",
   "execution_count": null,
   "metadata": {},
   "outputs": [],
   "source": [
    "# get the date from match object\n",
    "date_match = date_text_pattern.search(date_text)\n",
    "the_month = date_match.group(1)\n",
    "the_day = date_match.group(2)\n",
    "the_year = date_match.group(3)"
   ]
  },
  {
   "cell_type": "code",
   "execution_count": 5,
   "metadata": {},
   "outputs": [
    {
     "data": {
      "text/plain": [
       "'Route 3 from Adams is running 20 minutes late<br/>\\nRoute 120 from Loyal Heights is running 20 minutes late<br/>\\nRoute 630 from Queen Anne is running 20 minutes late<br/>\\nRoute 148 from Northgate is running 10 minutes late<br/>\\nRoute 799 from Gatzert is running 2 hours late<br/>\\nRoute 462 from Washington is running 1 hour late<br/>\\nRoute 792 from Kimball is running 2 hours late<br/>\\nRoute 402 from Cleveland is running 1 hour late<br/>\\nRoute 624 from Fairmount Park is running 2 hours late<br/>\\nRoute 464 from Washington is running 1 hour late<br/>\\nRoute 795 from Leschi is running 2 hours late<br/>\\nRoute 456 from Meany is running 1 hour late<br/>\\nRoute 327 from Washington is running 1 hour late<br/>\\nRoute 130 from Maple is running 2 hours late<br/>\\nRoute 36 from Dearborn Park is running 2 hours late<br/>\\nRoute 213 from Viewlands is running 2 hours late<br/>\\nRoute 79 from John Hay is running 1 hour late<br/>\\nRoute 317 from Meany is running 1 hour late<br/>\\nRoute 576 from TOPS is running 20 minutes late'"
      ]
     },
     "execution_count": 5,
     "metadata": {},
     "output_type": "execute_result"
    }
   ],
   "source": [
    "# make the bus list readible, so we can use regex\n",
    "bus_list = str(bus_list)\n",
    "bus_list = bus_list.strip('<p>')\n",
    "bus_list = bus_list.strip('</p>')\n",
    "bus_list = bus_list.strip('is running')\n",
    "bus_list_array = bus_list.split(\"<br/>\")\n",
    "print(bus_list_array)"
   ]
  },
  {
   "cell_type": "code",
   "execution_count": null,
   "metadata": {},
   "outputs": [],
   "source": [
    "# create bus list arrays using regex\n",
    "bus_number_list = []\n",
    "school_list = []\n",
    "to_from_list = []\n",
    "time_list = []\n",
    "unit_list = []\n",
    "month_list = []\n",
    "day_list = []\n",
    "year_list = []\n",
    "\n",
    "for list_item in bus_list_array:\n",
    "    # use regex to parse pattern\n",
    "    match = running_late_bus_pattern.search(list_item)\n",
    "    \n",
    "    # put values in arrays\n",
    "    bus_number_list.append(match.group(1))\n",
    "    to_from_list.append(match.group(2))\n",
    "    school_list.append(match.group(3))\n",
    "    time_list.append(match.group(4))\n",
    "    unit_list.append(match.group(5))\n",
    "    \n",
    "    # put date in arrays\n",
    "    month_list.append(the_month)\n",
    "    day_list.append(the_day)\n",
    "    year_list.append(the_year)"
   ]
  },
  {
   "cell_type": "code",
   "execution_count": 23,
   "metadata": {},
   "outputs": [
    {
     "name": "stdout",
     "output_type": "stream",
     "text": [
      "       Month Day  Year  Bus Number          School To/From   Time     Unit\n",
      "0   December  21  2018         3.0           Adams    from   20.0  minutes\n",
      "1   December  21  2018       120.0   Loyal Heights    from   20.0  minutes\n",
      "2   December  21  2018       630.0      Queen Anne    from   20.0  minutes\n",
      "3   December  21  2018       148.0       Northgate    from   10.0  minutes\n",
      "4   December  21  2018       799.0         Gatzert    from  120.0  minutes\n",
      "5   December  21  2018       462.0      Washington    from   60.0  minutes\n",
      "6   December  21  2018       792.0         Kimball    from  120.0  minutes\n",
      "7   December  21  2018       402.0       Cleveland    from   60.0  minutes\n",
      "8   December  21  2018       624.0  Fairmount Park    from  120.0  minutes\n",
      "9   December  21  2018       464.0      Washington    from   60.0  minutes\n",
      "10  December  21  2018       795.0          Leschi    from  120.0  minutes\n",
      "11  December  21  2018       456.0           Meany    from   60.0  minutes\n",
      "12  December  21  2018       327.0      Washington    from   60.0  minutes\n",
      "13  December  21  2018       130.0           Maple    from  120.0  minutes\n",
      "14  December  21  2018        36.0   Dearborn Park    from  120.0  minutes\n",
      "15  December  21  2018       213.0       Viewlands    from  120.0  minutes\n",
      "16  December  21  2018        79.0        John Hay    from   60.0  minutes\n",
      "17  December  21  2018       317.0           Meany    from   60.0  minutes\n",
      "18  December  21  2018       576.0            TOPS    from   20.0  minutes\n"
     ]
    }
   ],
   "source": [
    "BusDataSet = list(zip(month_list,day_list,year_list,bus_number_list,school_list, to_from_list, time_list, unit_list))\n",
    "\n",
    "df = pd.read_pickle('bus_data.pk1')\n",
    "\n",
    "df2 = pd.DataFrame(data = BusDataSet, columns=['Month', 'Day','Year',\n",
    "                                              'Bus Number','School',\n",
    "                                              'To/From','Time','Unit'])\n",
    "\n",
    "df3 = df.append(df2,ignore_index=True)\n",
    "\n",
    "#df3.to_pickle('bus_data.pk1')\n",
    "\n",
    "print(df3[0:19])"
   ]
  },
  {
   "cell_type": "markdown",
   "metadata": {},
   "source": [
    "# Testing regex"
   ]
  },
  {
   "cell_type": "code",
   "execution_count": 40,
   "metadata": {},
   "outputs": [],
   "source": [
    "bus_list_text = 'Route 3 from Adams is running 20 minutes late<br/>\\nRoute 120 from Loyal Heights is running 20 minutes late<br/>\\nRoute 630 from Queen Anne is running 20 minutes late<br/>\\nRoute 148 from Northgate is running 10 minutes late<br/>\\nRoute 799 from Gatzert is running 2 hours late<br/>\\nRoute 462 from Washington is running 1 hour late<br/>\\nRoute 792 from Kimball is running 2 hours late<br/>\\nRoute 402 from Cleveland is running 1 hour late<br/>\\nRoute 624 from Fairmount Park is running 2 hours late<br/>\\nRoute 464 from Washington is running 1 hour late<br/>\\nRoute 795 from Leschi is running 2 hours late<br/>\\nRoute 456 from Meany is running 1 hour late<br/>\\nRoute 327 from Washington is running 1 hour late<br/>\\nRoute 130 from Maple is running 2 hours late<br/>\\nRoute 36 from Dearborn Park is running 2 hours late<br/>\\nRoute 213 from Viewlands is running 2 hours late<br/>\\nRoute 79 from John Hay is running 1 hour late<br/>\\nRoute 317 from Meany is running 1 hour late<br/>\\nRoute 576 from TOPS is running 20 minutes late'"
   ]
  },
  {
   "cell_type": "code",
   "execution_count": 52,
   "metadata": {},
   "outputs": [],
   "source": [
    "running_late_text = 'hi hi Route 3 from Adams is running 20 minutes late'"
   ]
  },
  {
   "cell_type": "code",
   "execution_count": 81,
   "metadata": {},
   "outputs": [],
   "source": [
    "date_text = \"Today's Late Bus Alert for December 21st, 2019\""
   ]
  },
  {
   "cell_type": "code",
   "execution_count": 79,
   "metadata": {},
   "outputs": [
    {
     "name": "stdout",
     "output_type": "stream",
     "text": [
      "hi\n"
     ]
    },
    {
     "data": {
      "text/plain": [
       "['3', 'from', 'Adams', '20', 'minutes']"
      ]
     },
     "execution_count": 79,
     "metadata": {},
     "output_type": "execute_result"
    }
   ],
   "source": [
    "# regex bus list\n",
    "running_late_bus_pattern = re.compile(\"Route (\\d+) ([A-Za-z]+) ([A-Za-z]+) is running (\\d+) ([A-Za-z]+) late\")\n",
    "if running_late_bus_pattern.search(running_late_text):\n",
    "    print(\"hi\")\n",
    "\n",
    "bus_match = running_late_bus_pattern.search(running_late_text)\n",
    "[bus_match.group(1), bus_match.group(2), bus_match.group(3), bus_match.group(4), bus_match.group(5)]\n"
   ]
  },
  {
   "cell_type": "code",
   "execution_count": 93,
   "metadata": {},
   "outputs": [
    {
     "name": "stdout",
     "output_type": "stream",
     "text": [
      "December 21 2019\n"
     ]
    }
   ],
   "source": [
    "# regex, today's date\n",
    "date_text_pattern = re.compile(\"([A-Z][a-z]+) (\\d+)[a-z]+, (\\d\\d\\d\\d)\")\n",
    "\n",
    "date_match = date_text_pattern.search(date_text)\n",
    "the_month = date_match.group(1)\n",
    "the_day = date_match.group(2)\n",
    "the_year = date_match.group(3)\n",
    "\n",
    "print(the_month, the_day, the_year)"
   ]
  },
  {
   "cell_type": "markdown",
   "metadata": {},
   "source": [
    "# making bus list using string parsing (old - prone to errors with formatting changes)"
   ]
  },
  {
   "cell_type": "code",
   "execution_count": 12,
   "metadata": {},
   "outputs": [
    {
     "name": "stdout",
     "output_type": "stream",
     "text": [
      "<h3>\n",
      "<strong style=\"font-size: 10pt;\">Estimated times for all reported delays are listed below. For delayed routes, auto-calls will be made when a route is running more than 15 minutes late.</strong></h3>\n"
     ]
    }
   ],
   "source": [
    "# get date and bus list from html -- prone to errors if formatting changes\n",
    "[a, bus_list, b] = soup.find_all('p')\n",
    "[a,date] = soup.find_all('h3')\n",
    "print(date)"
   ]
  },
  {
   "cell_type": "code",
   "execution_count": 4,
   "metadata": {},
   "outputs": [
    {
     "name": "stdout",
     "output_type": "stream",
     "text": [
      "<h3>Today's Late Bus Alert for December 21st, 2018</h3>\n",
      "[\"Today's\", 'Late', 'Bus', 'Alert', 'for', 'December', '21st,', '2018']\n",
      "21\n"
     ]
    }
   ],
   "source": [
    "date = str(date)\n",
    "print(date)\n",
    "\n",
    "date = date.strip('</h3>')\n",
    "date = date.strip(',')\n",
    "date = date.split(\" \")\n",
    "print(date)\n",
    "months = ['January','February','March','April','May','June',\n",
    "          'July','August','September','October','November','December']\n",
    "\n",
    "i = 0\n",
    "while date[i] not in months:\n",
    "    i = i+1\n",
    "\n",
    "the_month = date[i]\n",
    "the_day = date[i+1]\n",
    "the_year = date[i+2]\n",
    "\n",
    "print(the_day[0:2])\n",
    "\n",
    "if the_day[0:2].isdigit() == True:\n",
    "    the_day = the_day[0:2]\n",
    "else:\n",
    "    the_day = the_day[0]"
   ]
  },
  {
   "cell_type": "code",
   "execution_count": 7,
   "metadata": {},
   "outputs": [],
   "source": [
    "new_bus_array = []\n",
    "\n",
    "for string in bus_list_array:\n",
    "    string = string.split(' ')\n",
    "    new_bus_array.append(string)"
   ]
  },
  {
   "cell_type": "code",
   "execution_count": 20,
   "metadata": {},
   "outputs": [],
   "source": [
    "# great bus list arrays using string analysis\n",
    "\n",
    "bus_number_list = []\n",
    "school_list = []\n",
    "to_from_list = []\n",
    "time_list = []\n",
    "unit_list = []\n",
    "month_list = []\n",
    "day_list = []\n",
    "year_list = []\n",
    "\n",
    "\n",
    "for list_item in new_bus_array:\n",
    "    bus_number_list.append(int(list_item[1]))\n",
    "    to_from_list.append(list_item[2])\n",
    "    \n",
    "    #schools\n",
    "    if list_item[4] == \"is\":\n",
    "        is_index = 4\n",
    "        school_list.append(list_item[3])\n",
    "    elif list_item[5] == \"is\":\n",
    "        is_index = 5\n",
    "        school_list.append(list_item[3]+\" \"+list_item[4])\n",
    "    elif list_item[6] == \"is\":\n",
    "        is_index = 6\n",
    "        school_list.append(list_item[3]+\" \"+list_item[4]+\" \"+list_item[5])\n",
    "        \n",
    "    #time\n",
    "    if list_item[is_index+3] == 'minutes':\n",
    "        time_list.append(int(list_item[is_index+2]))\n",
    "    elif list_item[is_index+3] == 'hours' or list_item[is_index+3] == 'hour' :\n",
    "        time_list.append(60*int(list_item[is_index+2]))\n",
    "        \n",
    "    unit_list.append(\"minutes\")\n",
    "    month_list.append(the_month)\n",
    "    day_list.append(the_day)\n",
    "    year_list.append(the_year)"
   ]
  }
 ],
 "metadata": {
  "kernelspec": {
   "display_name": "Python 3",
   "language": "python",
   "name": "python3"
  },
  "language_info": {
   "codemirror_mode": {
    "name": "ipython",
    "version": 3
   },
   "file_extension": ".py",
   "mimetype": "text/x-python",
   "name": "python",
   "nbconvert_exporter": "python",
   "pygments_lexer": "ipython3",
   "version": "3.6.6"
  }
 },
 "nbformat": 4,
 "nbformat_minor": 1
}
