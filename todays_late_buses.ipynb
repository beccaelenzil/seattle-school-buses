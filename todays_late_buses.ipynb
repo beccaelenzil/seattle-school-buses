{
 "cells": [
  {
   "cell_type": "code",
   "execution_count": 13,
   "metadata": {},
   "outputs": [],
   "source": [
    "# color coding function\n",
    "def color_code_fn(school_type):\n",
    "    if school_type[i] == \"elementary school\":\n",
    "        color_code = [255,0,125,255]\n",
    "    elif school_type[i] == \"middle school\":\n",
    "        color_code = [255,0,0,255]  \n",
    "    elif school_type[i] == \"high school\":\n",
    "        color_code = [125,0,255,255] \n",
    "    else:\n",
    "        color_code = [125,0,255,255] \n",
    "    return color_code\n"
   ]
  },
  {
   "cell_type": "markdown",
   "metadata": {},
   "source": [
    "# Today"
   ]
  },
  {
   "cell_type": "code",
   "execution_count": 14,
   "metadata": {},
   "outputs": [
    {
     "name": "stdout",
     "output_type": "stream",
     "text": [
      "               School               Type        Street Address Zip Code  \\\n",
      "5         Nathan Hale        high school    10750 30th Ave NE     98125   \n",
      "36               Orca                k-8      5215 46th Ave Sæ    98118   \n",
      "38         Salmon Bay                k-8      1810 NW 65th Stæ    98117   \n",
      "61        Graham Hill  elementary school     5149 S Graham St     98118   \n",
      "64          Hawthorne  elementary school      4100 39th Ave S     98118   \n",
      "71             Lawton  elementary school      4000 27th Ave W     98199   \n",
      "73             Lowell  elementary school     1058 E Mercer St     98102   \n",
      "79  Thurgood Marshall  elementary school     2401 S Irving St     98144   \n",
      "81           McGilvra  elementary school      1617 38th Ave E     98112   \n",
      "97     Thornton Creek  elementary school  7712 40th Avenue NE     98115   \n",
      "\n",
      "   option_alt    latitude  longitude  \\\n",
      "5         N/A -122.296121  47.708046   \n",
      "36     option -122.275402  47.554785   \n",
      "38     option -122.380510  47.676016   \n",
      "61        N/A -122.268550  47.546027   \n",
      "64        N/A -122.283892  47.565891   \n",
      "71        N/A -122.391014  47.656676   \n",
      "73        N/A -122.318352  47.624285   \n",
      "79        N/A -122.299862  47.591168   \n",
      "81        N/A -122.284091  47.634075   \n",
      "97     option -122.285253  47.685646   \n",
      "\n",
      "                                              geocode  Late Time  \n",
      "5   {'address': '10750 30th Ave NE, Seattle, Washi...        105  \n",
      "36  {'address': '5215 46th Ave S, Seattle, Washing...         60  \n",
      "38  {'address': '1810 NW 65th St, Seattle, Washing...         75  \n",
      "61  {'address': '5149 S Graham St, Seattle, Washin...        120  \n",
      "64  {'address': '4100 39th Ave S, Seattle, Washing...        120  \n",
      "71  {'address': '4000 27th Ave W, Seattle, Washing...        120  \n",
      "73  {'address': '1058 E Mercer St, Seattle, Washin...         60  \n",
      "79  {'address': '2401 S Irving St, Seattle, Washin...        120  \n",
      "81  {'address': '1617 38th Ave E, Seattle, Washing...        120  \n",
      "97  {'address': '7712 40th Ave NE, Seattle, Washin...        120  \n"
     ]
    },
    {
     "name": "stderr",
     "output_type": "stream",
     "text": [
      "/anaconda3/lib/python3.6/site-packages/ipykernel_launcher.py:54: SettingWithCopyWarning: \n",
      "A value is trying to be set on a copy of a slice from a DataFrame.\n",
      "Try using .loc[row_indexer,col_indexer] = value instead\n",
      "\n",
      "See the caveats in the documentation: http://pandas.pydata.org/pandas-docs/stable/indexing.html#indexing-view-versus-copy\n"
     ]
    },
    {
     "ename": "NameError",
     "evalue": "name 'school_types' is not defined",
     "output_type": "error",
     "traceback": [
      "\u001b[0;31m---------------------------------------------------------------------------\u001b[0m",
      "\u001b[0;31mNameError\u001b[0m                                 Traceback (most recent call last)",
      "\u001b[0;32m<ipython-input-14-6af25940134c>\u001b[0m in \u001b[0;36m<module>\u001b[0;34m()\u001b[0m\n\u001b[1;32m     74\u001b[0m     \u001b[0;31m#else:\u001b[0m\u001b[0;34m\u001b[0m\u001b[0;34m\u001b[0m\u001b[0m\n\u001b[1;32m     75\u001b[0m     \u001b[0;31m#    color_code = [125,0,255,255]\u001b[0m\u001b[0;34m\u001b[0m\u001b[0;34m\u001b[0m\u001b[0m\n\u001b[0;32m---> 76\u001b[0;31m     \u001b[0mcolor_code\u001b[0m \u001b[0;34m=\u001b[0m \u001b[0mcolor_code_fn\u001b[0m\u001b[0;34m(\u001b[0m\u001b[0mschool_types\u001b[0m\u001b[0;34m)\u001b[0m\u001b[0;34m\u001b[0m\u001b[0m\n\u001b[0m\u001b[1;32m     77\u001b[0m \u001b[0;34m\u001b[0m\u001b[0m\n\u001b[1;32m     78\u001b[0m     \u001b[0md\u001b[0m \u001b[0;34m=\u001b[0m \u001b[0;34m(\u001b[0m\u001b[0mmax_d\u001b[0m\u001b[0;34m*\u001b[0m\u001b[0;34m(\u001b[0m\u001b[0mlate_time\u001b[0m\u001b[0;34m[\u001b[0m\u001b[0mi\u001b[0m\u001b[0;34m]\u001b[0m\u001b[0;34m+\u001b[0m\u001b[0;36m30\u001b[0m\u001b[0;34m)\u001b[0m\u001b[0;34m)\u001b[0m\u001b[0;34m/\u001b[0m\u001b[0mmax\u001b[0m\u001b[0;34m(\u001b[0m\u001b[0mlate_time\u001b[0m\u001b[0;34m)\u001b[0m\u001b[0;34m\u001b[0m\u001b[0m\n",
      "\u001b[0;31mNameError\u001b[0m: name 'school_types' is not defined"
     ]
    }
   ],
   "source": [
    "import datetime\n",
    "import pandas as pd\n",
    "import numpy as np\n",
    "from datascience import *\n",
    "import random\n",
    "from arcgis.gis import GIS\n",
    "\n",
    "now = datetime.datetime.now()\n",
    "\n",
    "# read in schools table\n",
    "school_df = pd.read_pickle('geocoding_schools/cleaned_school_list.pk1')\n",
    "\n",
    "\n",
    "#from arcgis.geocoding import geocoding\n",
    "my_gis = GIS()\n",
    "seattle = my_gis.map(\"Seattle, WA\")\n",
    "\n",
    "geocodes = school_df['geocode']\n",
    "name = school_df['School']\n",
    "\n",
    "i = 0\n",
    "for school in geocodes:\n",
    "    try:\n",
    "        seattle.draw(school['location'], {\"title\" : name[i], \"content\" : school['address']},\n",
    "                     {\"type\": \"esriSMS\",\"style\": \"esriSMSCircle\",\"color\": [0,0,0,125],\"size\": 4,\n",
    "                      \"angle\": 0,\"xoffset\": 0,\"yoffset\": 0,\n",
    "                      \"outline\": {\"color\": [0,0,0,255],\"width\": 0}})\n",
    "    except:\n",
    "        pass\n",
    "        #print(\"No address for:\", (name[i]))\n",
    "    i+=1\n",
    "    \n",
    "late_bus_df = pd.read_pickle('scraping_bus_data/bus_data.pk1')\n",
    "late_bus_df1  = late_bus_df.loc[late_bus_df['Day'] == str(7)]#str(now.day)]\n",
    "late_bus_df2  = late_bus_df1.loc[late_bus_df1['To/From'] == 'to']\n",
    "late_bus_df3  = late_bus_df2.loc[late_bus_df2['Data Taken Hour'] == 7]\n",
    "late_schools = school_df.loc[school_df.get('School').isin(late_bus_df3.get('School'))]\n",
    "\n",
    "# calculate the total bus late time for each school\n",
    "total_rows = int(late_schools.size/8)\n",
    "\n",
    "late_time = (total_rows)*[0]\n",
    "i = 0\n",
    "\n",
    "# add minute late column to school df\n",
    "for index_schools, row_schools in late_schools.iterrows():\n",
    "    for index_buses, row_buses in late_bus_df3.iterrows():\n",
    "        if row_schools['School'] == row_buses['School']:\n",
    "            #print(row_schools['School'],row_buses['School'])\n",
    "            late_time[i] += row_buses['Time']\n",
    "    i+=1\n",
    "    #print(late_time)\n",
    "    \n",
    "late_schools['Late Time'] = late_time\n",
    "\n",
    "# map late schools\n",
    "geocodes = late_schools['geocode']\n",
    "name = list(late_schools['School'])\n",
    "late_time = list(late_schools['Late Time'])\n",
    "school_type = list(late_schools['Type'])\n",
    "\n",
    "#print(late_time)\n",
    "i = 0\n",
    "for school in geocodes:\n",
    "    max_d = 8\n",
    "    #if school_type[i] == \"elementary school\":\n",
    "    #    color_code = [255,0,125,255]\n",
    "    #elif school_type[i] == \"middle school\":\n",
    "    #    color_code = [255,0,0,255]  \n",
    "    #elif school_type[i] == \"high school\":\n",
    "    #    color_code = [125,0,255,255] \n",
    "    #else:\n",
    "    #    color_code = [125,0,255,255] \n",
    "    color_code = color_code_fn(school_type)\n",
    "    \n",
    "    d = (max_d*(late_time[i]+30))/max(late_time)\n",
    "    seattle.draw(school['location'], {\"title\" : name[i], \"content\" : \"Late: \"+str(late_time[i])+\" minutes\"},\n",
    "                     {\"type\": \"esriSMS\",\"style\": \"esriSMSCircle\",\"color\": color_code,\n",
    "                      \"size\": d,\n",
    "                      \"angle\": 0,\"xoffset\": 0,\"yoffset\": 0,\n",
    "                      \"outline\": {\"color\": [0,0,0,255],\"width\": 1}})\n",
    "\n",
    "    i+=1\n",
    "       \n",
    "seattle"
   ]
  },
  {
   "cell_type": "markdown",
   "metadata": {},
   "source": [
    "# All Days"
   ]
  },
  {
   "cell_type": "code",
   "execution_count": null,
   "metadata": {},
   "outputs": [],
   "source": []
  }
 ],
 "metadata": {
  "kernelspec": {
   "display_name": "Python 3",
   "language": "python",
   "name": "python3"
  },
  "language_info": {
   "codemirror_mode": {
    "name": "ipython",
    "version": 3
   },
   "file_extension": ".py",
   "mimetype": "text/x-python",
   "name": "python",
   "nbconvert_exporter": "python",
   "pygments_lexer": "ipython3",
   "version": "3.6.6"
  }
 },
 "nbformat": 4,
 "nbformat_minor": 1
}
